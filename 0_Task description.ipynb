{
 "cells": [
  {
   "cell_type": "markdown",
   "metadata": {},
   "source": [
    "#Product Analyst - Technical Assessment\n",
    "\n",
    "Thank you for taking time to complete this assessment. The assessment can be completed in either Python or SQL. It should not take more than 60 minutes to work on it (you can take an extra 5 minutes to read through the task description and instructions and whatever time is needed to prepare your working environment).\n",
    "\n",
    "The main thing we are looking for is that you are careful and detail-oriented in your analysis. Since on the job you will have the internet and additional resources to assist you in your work, feel free to look up anything which allows you to better answer the questions. The exception, of course, is that you cannot ask other people to help you directly and the work you submit should be yours alone. Relatedly, do not share the task or the data afterwards in any way. Please submit the completed assessment either as a Jupyter notebook with all calculations and outputs clearly shown, or as an SQL script with an additional document that displays the output of your script along with your insights and recommendations.\n",
    "\n",
    "For this assessment you will use data from two .csv files. These files can be joined on the common user_id column. The data in these files come from a sample of our English platform student users who created an account in 2019. One file has profile information about the user and the other has information about trial activity and conversion. The values in the column class are calculated based on the graduation year that the users provide at account creation.\n",
    "\n",
    "The values in the column marketing_source are user responses (chosen from a drop-down menu) to how they heard about Amboss. The column date_of_first_purchase shows the date the user converted and is missing if they have not converted yet. The column purchased_lifetime is a boolean for whether their first purchase was the student lifetime product. The columns ending with _first_5_days contain the number of chapters read, searches made, and questions answered during the user’s trial period. The other columns should be self-explanatory upon inspection.\n",
    "\n",
    "Amboss has divided the English platform into two main markets: the United States (US) and the rest of the world (RoW). A major part of your job here at Amboss would be to understand the company’s performance in each market and how they compare with each other.\n",
    "\n",
    "We want to look at 30-day conversion rates (conversion within 30 days after registration). Please provide an analysis and guide us through your insights about 30-day conversion rates for different markets (US, RoW). Please also provide possible recommendations to stakeholders based on this information."
   ]
  },
  {
   "cell_type": "markdown",
   "metadata": {},
   "source": [
    "## Task rundown\n",
    "\n",
    "1. Combine and fetch data\n",
    "2. Explore data\n",
    "3. Clean data / missing values"
   ]
  },
  {
   "cell_type": "markdown",
   "metadata": {},
   "source": [
    "Findings: There are double values  in ambos_user_profile\n",
    "\n",
    "e.g. user_id am_186149; same values for all columns.\n",
    "\n",
    "same for the other table\n",
    "\n",
    "e.g. user_id am_187967; same values for all columns.\n",
    "\n",
    "--> use \"distinct\" for joining\""
   ]
  }
 ],
 "metadata": {
  "language_info": {
   "name": "python"
  },
  "orig_nbformat": 4
 },
 "nbformat": 4,
 "nbformat_minor": 2
}
